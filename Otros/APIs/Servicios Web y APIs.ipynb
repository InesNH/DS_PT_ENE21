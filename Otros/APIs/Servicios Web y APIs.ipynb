{
 "cells": [
  {
   "cell_type": "markdown",
   "metadata": {},
   "source": [
    "# Servicios Web y APIs "
   ]
  },
  {
   "cell_type": "markdown",
   "metadata": {},
   "source": [
    "## Índice\n",
    "1. [API Air Quality](#air)\n",
    "2. [API de OpenWeather](#wea)\n",
    "3. [API de Idealista](#idealista)"
   ]
  },
  {
   "cell_type": "markdown",
   "metadata": {},
   "source": [
    "En este Notebook vamos a llamar a diversas APIs. Antes de comenzar, es importante destacar dos conceptos:  \n",
    "\n",
    "1) **Codificación de URLs**: Toda cadena de cadena de caracteres que se introduzca en una URL tiene que codificarse adecuadamente. En Python, podemos utilizar la función `quote()` del paquete `urllib.parse`"
   ]
  },
  {
   "cell_type": "code",
   "execution_count": null,
   "metadata": {},
   "outputs": [],
   "source": []
  },
  {
   "cell_type": "markdown",
   "metadata": {},
   "source": [
    "2) **Peticiones HTTP**: la librería `requests` es la más utilizada para realizar peticiones HTTP en Python, permitiendo utilizar los métodos más comunes de este protocolo (GET, POST, PUT, etc.). Para más información entra en este [enlace](https://realpython.com/python-requests/)\n",
    "\n",
    "También podemos utilizar la librería `urllib.request`"
   ]
  },
  {
   "cell_type": "markdown",
   "metadata": {},
   "source": [
    "<a id=\"air\"></a>\n",
    "## API Air Quality"
   ]
  },
  {
   "cell_type": "markdown",
   "metadata": {},
   "source": [
    "Esta API abierta proporciona información acerca de la calidad del aire en diversas ciudades. La documentación se encuentra en https://docs.openaq.org  \n",
    "\n",
    "En primer lugar vamos a llamar a la API **cities**, la cual nos informa de las ciudades disponibles"
   ]
  },
  {
   "cell_type": "code",
   "execution_count": null,
   "metadata": {},
   "outputs": [],
   "source": []
  },
  {
   "cell_type": "markdown",
   "metadata": {},
   "source": [
    "Esto mismo podemos realizarlo con la librería `requests`"
   ]
  },
  {
   "cell_type": "code",
   "execution_count": null,
   "metadata": {},
   "outputs": [],
   "source": []
  },
  {
   "cell_type": "markdown",
   "metadata": {},
   "source": [
    "A continuación, llamamos a la API **latest**, que devuelve los últimos registros de una ciudad o país en concreto"
   ]
  },
  {
   "cell_type": "code",
   "execution_count": null,
   "metadata": {},
   "outputs": [],
   "source": []
  },
  {
   "cell_type": "markdown",
   "metadata": {},
   "source": [
    "Parseamos el JSON de respuesta para obtener todos los niveles disponibles y la fecha de las mediciones. La librería json transforma ficheros JSON a conjuntos de listas y diccionarios en Python"
   ]
  },
  {
   "cell_type": "code",
   "execution_count": null,
   "metadata": {},
   "outputs": [],
   "source": []
  },
  {
   "cell_type": "markdown",
   "metadata": {},
   "source": [
    "<a id=\"wea\"></a>\n",
    "## API de OpenWeather"
   ]
  },
  {
   "cell_type": "markdown",
   "metadata": {},
   "source": [
    "Esta API permite obtener información climática. Puedes encontrar la documentación en https://openweathermap.org/api.   \n",
    "Para obtener la API key hay que registrar un email válido, al cual será enviada la clave.  \n",
    "\n",
    "Vamos a obtener la predicción de velocidad del viento para una ciudad a través de [esta API](https://openweathermap.org/forecast5)"
   ]
  },
  {
   "cell_type": "code",
   "execution_count": null,
   "metadata": {
    "scrolled": true
   },
   "outputs": [],
   "source": [
    "api_key = '3886d5996f84c5b9a5c953b027fc2306'\n"
   ]
  },
  {
   "cell_type": "code",
   "execution_count": null,
   "metadata": {},
   "outputs": [],
   "source": [
    "from datetime import datetime\n",
    "import matplotlib.pyplot as plt\n",
    "%matplotlib inline\n",
    " \n",
    "ts2 = [datetime.strptime(d,'%Y-%m-%d %H:%M:%S') for d in ts]\n",
    "fig = plt.figure(figsize=(12,2))\n",
    "plt.grid()\n",
    "\n",
    "plt.plot(ts2,speed,color='blue');"
   ]
  },
  {
   "cell_type": "markdown",
   "metadata": {},
   "source": [
    "<a id=\"idealista\"></a>\n",
    "## API de Idealista"
   ]
  },
  {
   "cell_type": "markdown",
   "metadata": {},
   "source": [
    "Para utilizar la API de Idealista, en primer lugar hay que solicitar un token de acceso, a través de una solicitud de tipo POST con autenticación BasicAuth"
   ]
  },
  {
   "cell_type": "code",
   "execution_count": null,
   "metadata": {},
   "outputs": [],
   "source": [
    "import json\n",
    "import requests\n",
    "from requests.auth import HTTPBasicAuth\n",
    "\n",
    "idealista_url = \"https://api.idealista.com/oauth/token\"\n",
    "r = requests.post(idealista_url,\n",
    "                  auth=HTTPBasicAuth(\"9imfkl9ugl3ofiv9b95i7am1w98yzpu7\", \"8nZfatljCytZ\"),\n",
    "                  data={\"grant_type\": \"client_credentials\"})\n",
    "\n",
    "token_response = json.loads(r.text)\n",
    "token_value = token_response[\"access_token\"]\n",
    "print(\"Token: \" + token_value)"
   ]
  },
  {
   "cell_type": "markdown",
   "metadata": {},
   "source": [
    "Una vez obtenido el token, puede utilizarse la API para filtrar alojamientos en Idealista. Puedes encontrar documentación en [este enlace](https://drive.google.com/file/d/0B04WFd5M9TJba0UwM1NMaG05NUY1OUxsSGFzLTczbGhmdUhF/view?usp=sharing). \n",
    "\n",
    "La autenticación en este caso es de tipo Bearer. Los tokens Bearer son el tipo predominante de token de acceso que se usa con OAuth 2.0. Este token debe ser enviado en la cabecera de la siguiente forma:   \n",
    "`Authorization: Bearer <token>`"
   ]
  },
  {
   "cell_type": "code",
   "execution_count": null,
   "metadata": {},
   "outputs": [],
   "source": []
  },
  {
   "cell_type": "markdown",
   "metadata": {},
   "source": [
    "Mostramos las URLs de los pisos de menos de 800 euros"
   ]
  },
  {
   "cell_type": "code",
   "execution_count": null,
   "metadata": {},
   "outputs": [],
   "source": []
  },
  {
   "cell_type": "markdown",
   "metadata": {},
   "source": [
    "## <span style=\"color:red\">Do it yourself</span>"
   ]
  },
  {
   "cell_type": "markdown",
   "metadata": {},
   "source": [
    "Encuentra la receta más calórica de queso **Camembert** utilizando la siguiente API:\n",
    "https://developer.edamam.com/edamam-docs-recipe-api\n",
    "\n",
    "Utiliza las siguientes credenciales (o crea las tuyas propias):  \n",
    "api_id = `0ceaaf83`  \n",
    "api_key = `93ff26f92c228dbafa3d7d2f9b789a39`"
   ]
  },
  {
   "cell_type": "code",
   "execution_count": null,
   "metadata": {},
   "outputs": [],
   "source": []
  }
 ],
 "metadata": {
  "kernelspec": {
   "display_name": "Python 3",
   "language": "python",
   "name": "python3"
  },
  "language_info": {
   "codemirror_mode": {
    "name": "ipython",
    "version": 3
   },
   "file_extension": ".py",
   "mimetype": "text/x-python",
   "name": "python",
   "nbconvert_exporter": "python",
   "pygments_lexer": "ipython3",
   "version": "3.7.10"
  }
 },
 "nbformat": 4,
 "nbformat_minor": 2
}

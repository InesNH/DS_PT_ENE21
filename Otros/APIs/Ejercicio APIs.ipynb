{
 "cells": [
  {
   "cell_type": "markdown",
   "id": "appreciated-bennett",
   "metadata": {},
   "source": [
    "Queremos obtener los datos climáticos más recientes de una determinada dirección. Para ello, utilizaremos dos APIs:  \n",
    "\n",
    "1)\t**OpenWeather** (https://openweathermap.org/): La API Current weather data proporciona información actual de ubicaciones, las cuales pueden ser nombres o códigos de ciudades, códigos postales, coordenadas geográficas...  \n",
    "\n",
    "2)\t**OpenCage** (https://opencagedata.com/): Esta API permite transformar direcciones a coordenadas geográficas\n",
    "\n",
    "\n",
    "### SE PIDE:\n",
    "\n",
    "Programar un código en Python que solicite al usuario introducir una dirección y devuelva la temperatura mínima, actual y máxima (en grados centígrados) de dicha dirección, utilizando las dos APIs anteriores. Para ello:  \n",
    "\n",
    "i)\tLee detenidamente la documentación de ambas APIs y obtén la autenticación en cada una de ellas.  \n",
    "ii)\tTransforma la dirección a coordenadas geográficas utilizando la API de OpenCage.  \n",
    "iii)\tUtiliza las coordenadas obtenidas en el paso anterior como parámetro para llamar a la API de OpenWeather y obtener  las temperaturas deseadas.   \n",
    "\n",
    "PISTA: Las temperaturas por defecto se muestran en grados Kelvin, pero existe un parámetro de la API para cambiarlo.\n",
    "  \n",
    "> **API keys** (en caso de no querer registrarte):  \n",
    ">\n",
    "> OpenWeather: `18cd2f22121032eccc71c44ddbf8ada2`  \n",
    "> OpenCage: `805d89d246494789ba8da7dfb456d070`  \n"
   ]
  },
  {
   "cell_type": "code",
   "execution_count": null,
   "id": "strange-found",
   "metadata": {},
   "outputs": [],
   "source": []
  }
 ],
 "metadata": {
  "kernelspec": {
   "display_name": "Python 3",
   "language": "python",
   "name": "python3"
  },
  "language_info": {
   "codemirror_mode": {
    "name": "ipython",
    "version": 3
   },
   "file_extension": ".py",
   "mimetype": "text/x-python",
   "name": "python",
   "nbconvert_exporter": "python",
   "pygments_lexer": "ipython3",
   "version": "3.7.10"
  }
 },
 "nbformat": 4,
 "nbformat_minor": 5
}
